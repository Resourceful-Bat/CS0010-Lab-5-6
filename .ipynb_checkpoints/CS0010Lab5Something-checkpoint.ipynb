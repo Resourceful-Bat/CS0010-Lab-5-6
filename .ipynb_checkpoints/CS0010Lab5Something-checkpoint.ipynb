{
 "cells": [
  {
   "cell_type": "code",
   "execution_count": 11,
   "metadata": {},
   "outputs": [
    {
     "name": "stdin",
     "output_type": "stream",
     "text": [
      "Please enter your name:  Steven\n",
      "Please enter a number:  2\n"
     ]
    },
    {
     "name": "stdout",
     "output_type": "stream",
     "text": [
      "Hello Steven\n",
      "Hello Steven\n"
     ]
    }
   ],
   "source": [
    "name = input(\"Please enter your name: \")\n",
    "num = input(\"Please enter a number: \")\n",
    "i = 0\n",
    "try:\n",
    "    num = int(num)\n",
    "    while i < num:\n",
    "        print(\"Hello \" + name)\n",
    "        i = i + 1\n",
    "    \n",
    "except:\n",
    "    print(\"Your number input must be an integer\")\n",
    "\n"
   ]
  },
  {
   "cell_type": "code",
   "execution_count": null,
   "metadata": {},
   "outputs": [],
   "source": []
  }
 ],
 "metadata": {
  "kernelspec": {
   "display_name": "Python 3",
   "language": "python",
   "name": "python3"
  },
  "language_info": {
   "codemirror_mode": {
    "name": "ipython",
    "version": 3
   },
   "file_extension": ".py",
   "mimetype": "text/x-python",
   "name": "python",
   "nbconvert_exporter": "python",
   "pygments_lexer": "ipython3",
   "version": "3.8.5"
  }
 },
 "nbformat": 4,
 "nbformat_minor": 4
}
