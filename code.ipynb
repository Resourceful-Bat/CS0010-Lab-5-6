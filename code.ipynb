{
 "cells": [
  {
   "cell_type": "code",
   "execution_count": 5,
   "metadata": {},
   "outputs": [
    {
     "name": "stdin",
     "output_type": "stream",
     "text": [
      "Please enter your name:  Steve\n",
      "Please enter an integer number:  2\n"
     ]
    },
    {
     "name": "stdout",
     "output_type": "stream",
     "text": [
      "Steve\n",
      "Steve\n"
     ]
    }
   ],
   "source": [
    "name = input(\"Please enter your name: \")\n",
    "num = input(\"Please enter an integer number: \")\n",
    "i = 0\n",
    "\n",
    "try:\n",
    "    num = int(num)\n",
    "    while i < num:\n",
    "        print(name)\n",
    "        i = i+1\n",
    "except:\n",
    "    print(\"You must enter an integer for the number\")"
   ]
  }
 ],
 "metadata": {
  "kernelspec": {
   "display_name": "Python 3",
   "language": "python",
   "name": "python3"
  },
  "language_info": {
   "codemirror_mode": {
    "name": "ipython",
    "version": 3
   },
   "file_extension": ".py",
   "mimetype": "text/x-python",
   "name": "python",
   "nbconvert_exporter": "python",
   "pygments_lexer": "ipython3",
   "version": "3.8.3"
  }
 },
 "nbformat": 4,
 "nbformat_minor": 4
}
